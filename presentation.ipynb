{
 "cells": [
  {
   "cell_type": "markdown",
   "id": "04b91452",
   "metadata": {
    "cell_style": "center",
    "slideshow": {
     "slide_type": "notes"
    }
   },
   "source": [
    "# Notes\n",
    "\n",
    "To convert this notebook into a slide show, run\n",
    "```\n",
    "jupyter nbconvert presentation.ipynb --to slides --post serve\n",
    "```\n",
    "\n",
    "# To Do\n",
    "* Write a definition for **reduce** DONE\n",
    "* List comprehension? DONE\n",
    "* REMEMBER TO DELETE CODE EXERCISES BEFORE PRESENTATION!\n",
    "* REMEMBER TO RESTART AND CLEAR OUTPUT!"
   ]
  },
  {
   "cell_type": "markdown",
   "id": "95173a0b",
   "metadata": {
    "slideshow": {
     "slide_type": "slide"
    }
   },
   "source": [
    "# Functional Programming in Python\n",
    "\n",
    "#### By Kevin Khuong | [github.com/kkhuong/fp-talk](https://github.com/kkhuong/fp-talk)\n",
    "\n",
    "##### June 15, 2022 | Salt Lake City, UT\n",
    "\n",
    "![Functional Programming Image](img/lambda.png)"
   ]
  },
  {
   "cell_type": "markdown",
   "id": "0a8d1701",
   "metadata": {
    "cell_style": "center",
    "slideshow": {
     "slide_type": "slide"
    }
   },
   "source": [
    "# Computing and Programming Languages ( PL )\n",
    "\n",
    "* Human Computer\n",
    "* (1936) Turing Machine\n",
    "* (1940s) Assembly Language\n",
    "* High Level Programming Languages\n",
    "  - (1957) FORTRAN - <font color='blue'>Procedural Programming</font>\n",
    "  - (1958) LISP - <font color='blue'>Functional Programming</font>\n",
    "  - (1960) SIMULA - <font color='blue'>Object-Oriented Programming</font>\n",
    "  - Modern languages: Python, JavaScript, Java"
   ]
  },
  {
   "cell_type": "markdown",
   "id": "cb56974e",
   "metadata": {
    "cell_style": "split",
    "slideshow": {
     "slide_type": "skip"
    }
   },
   "source": [
    "![Turing Machine](img/turing_machine.gif)"
   ]
  },
  {
   "cell_type": "markdown",
   "id": "30bdec9e",
   "metadata": {
    "cell_style": "split",
    "slideshow": {
     "slide_type": "slide"
    }
   },
   "source": [
    "# Proramming Paradigms\n",
    "\n",
    "* Machine Code\n",
    "* Procedural Programming\n",
    "* Object-Oriented Programming\n",
    "* Literate Programming\n",
    "* Declarative Programming\n",
    "* Functional Programming\n",
    "\n",
    "<!-- Maybe include a image here. Make this slide more visually appealing. -->\n",
    "<!-- HTML DID NOT EXIST BEFORE 1985 LOL -->"
   ]
  },
  {
   "cell_type": "markdown",
   "id": "d5a48cdf",
   "metadata": {
    "cell_style": "split",
    "slideshow": {
     "slide_type": "-"
    }
   },
   "source": [
    "![No one uses Functional Programming](img/meme.png)"
   ]
  },
  {
   "cell_type": "markdown",
   "id": "4685dacb",
   "metadata": {
    "cell_style": "center",
    "slideshow": {
     "slide_type": "fragment"
    }
   },
   "source": [
    "#### Python is\n",
    "- weakly, dynamically typed\n",
    "- object-oriented\n",
    "- procedural"
   ]
  },
  {
   "cell_type": "markdown",
   "id": "9246b947",
   "metadata": {
    "slideshow": {
     "slide_type": "slide"
    }
   },
   "source": [
    "# What is a Function?\n",
    "\n",
    "> Mathematically, a function $f : A \\to B$ is simply a rule that maps each element in set $A$ to a <font color='blue'>unique</font> element in set $B$.\n",
    "\n",
    "\n"
   ]
  },
  {
   "cell_type": "markdown",
   "id": "80d3e385",
   "metadata": {
    "slideshow": {
     "slide_type": "fragment"
    }
   },
   "source": [
    "\n",
    "The following Python code defines function $$\\text{is_even} : A \\to B$$ where\n",
    "\n",
    "\\begin{align*}\n",
    "A &= \\mathbb{Z}\\\\\n",
    "B &= \\{ True,False \\}\n",
    "\\end{align*}\n",
    "\n",
    "\n",
    "```python\n",
    "def is_even(n):\n",
    "    return n % 2 == 0\n",
    "```"
   ]
  },
  {
   "cell_type": "markdown",
   "id": "42021bf3",
   "metadata": {
    "slideshow": {
     "slide_type": "slide"
    }
   },
   "source": [
    "# What is Functional Programming ( FP )?\n",
    "\n",
    "> FP is based on a simple premise with far-reaching implications: we construct our programs using only **<font color='blue'>pure functions</font>**—in other words, functions that have **<font color='blue'>no side effects</font>**.\n",
    "\n",
    "![FP Design Image](img/fp-design.jpg)"
   ]
  },
  {
   "cell_type": "markdown",
   "id": "566aa985",
   "metadata": {
    "slideshow": {
     "slide_type": "slide"
    }
   },
   "source": [
    "## What are Side Effects?\n",
    "- Modifying a variable\n",
    "- Modifying a data structure in place\n",
    "- Setting a field on an object\n",
    "- Throwing an exception or halting with an error\n",
    "- Printing to the console or reading user input\n",
    "- Reading from or writing to a file\n",
    "- Drawing on the screen\n",
    "\n",
    "\n",
    "\n",
    "\n",
    "<!-- AN XKCD IMAGE. Unintended consequences -->"
   ]
  },
  {
   "cell_type": "markdown",
   "id": "d563eb29",
   "metadata": {
    "slideshow": {
     "slide_type": "fragment"
    }
   },
   "source": [
    "The idea of FP is that we want <font color=\"blue\">no side effects</font>.  \n",
    "\n",
    "That is, we want our functions to be <font color=\"blue\">safe</font>.\n",
    "\n",
    "<!-- Idempotent != FP. Call this out during the presentation. -->"
   ]
  },
  {
   "cell_type": "markdown",
   "id": "78bf9455",
   "metadata": {
    "slideshow": {
     "slide_type": "slide"
    }
   },
   "source": [
    "# Pure Function Examples"
   ]
  },
  {
   "cell_type": "code",
   "execution_count": null,
   "id": "573b5740",
   "metadata": {
    "slideshow": {
     "slide_type": "fragment"
    }
   },
   "outputs": [],
   "source": [
    "a = [2, 1, 3, 4]\n",
    "\n",
    "# GOOD EXAMPLE 1\n",
    "def is_even(n):\n",
    "    retun n % 2 == 0\n",
    "\n",
    "# GOOD EXAMPLE 2\n",
    "def is_all_even(nums):\n",
    "    '''\n",
    "    Return True if all elements in nums are even; otherwise, False.\n",
    "    '''\n",
    "    pass\n"
   ]
  },
  {
   "cell_type": "code",
   "execution_count": 3,
   "id": "fa28c08d",
   "metadata": {
    "scrolled": true,
    "slideshow": {
     "slide_type": "fragment"
    }
   },
   "outputs": [
    {
     "data": {
      "text/plain": [
       "[1, 2, 3, 4]"
      ]
     },
     "execution_count": 3,
     "metadata": {},
     "output_type": "execute_result"
    }
   ],
   "source": [
    "a = [2, 1, 3, 4]\n",
    "\n",
    "# GOOD EXAMPLE 3\n",
    "sorted(a)"
   ]
  },
  {
   "cell_type": "code",
   "execution_count": 7,
   "id": "a023c6e1",
   "metadata": {
    "slideshow": {
     "slide_type": "fragment"
    }
   },
   "outputs": [
    {
     "data": {
      "text/plain": [
       "[1, 2, 3, 4]"
      ]
     },
     "execution_count": 7,
     "metadata": {},
     "output_type": "execute_result"
    }
   ],
   "source": [
    "a = [2, 1, 3, 4]\n",
    "\n",
    "# NON-EXAMPLE 1\n",
    "a.sort()\n",
    "a"
   ]
  },
  {
   "cell_type": "code",
   "execution_count": 8,
   "id": "c8f60d8d",
   "metadata": {
    "scrolled": true,
    "slideshow": {
     "slide_type": "fragment"
    }
   },
   "outputs": [
    {
     "name": "stdout",
     "output_type": "stream",
     "text": [
      "Hello, Foobar\n"
     ]
    }
   ],
   "source": [
    "# NON-EXAMPLE 2\n",
    "greet = lambda name: print(f\"Hello, {name}\")\n",
    "\n",
    "greet(\"Foobar\")"
   ]
  },
  {
   "cell_type": "markdown",
   "id": "fa996dbe",
   "metadata": {
    "slideshow": {
     "slide_type": "slide"
    }
   },
   "source": [
    "# Agenda: FP and Python Features\n",
    "\n",
    "1. Dealing with Emptiness\n",
    "2. Any and All\n",
    "3. Filter, Map, and Reduce\n",
    "4. Decorators"
   ]
  },
  {
   "cell_type": "markdown",
   "id": "4d93cf27",
   "metadata": {
    "slideshow": {
     "slide_type": "slide"
    }
   },
   "source": [
    "# Dealing with Emptiness: Option\n",
    "\n",
    "![Option class diagram](img/option-diagram.png)"
   ]
  },
  {
   "cell_type": "markdown",
   "id": "9f1e80d6",
   "metadata": {
    "slideshow": {
     "slide_type": "subslide"
    }
   },
   "source": [
    "#### In C++ or Java, you might define a function like so\n",
    "\n",
    "```c++\n",
    "int floor_divide(int a, int b) {\n",
    "    if (b == 0)\n",
    "        return 2147483647; // INT_MAX means undefined\n",
    "    return a / b;\n",
    "}\n",
    "```"
   ]
  },
  {
   "cell_type": "markdown",
   "id": "ccfd527d",
   "metadata": {
    "slideshow": {
     "slide_type": "fragment"
    }
   },
   "source": [
    "#### <font color=\"red\">Confusing!</font> What if we have $a = 2147483647$ and $b = 1$?\n",
    "$$\\dfrac{a}{b} = \\dfrac{2147483647}{1} \\neq \\text{undefined}$$"
   ]
  },
  {
   "cell_type": "markdown",
   "id": "ab5bccfe",
   "metadata": {
    "slideshow": {
     "slide_type": "subslide"
    }
   },
   "source": [
    "#### In Python (and FP languages) you can simply return `None` to indicate $\\exists$ no solution\n",
    "\n",
    "\n",
    "```python\n",
    "def floor_divide(a, b):\n",
    "    if b == 0:\n",
    "        return None\n",
    "    return a // b\n",
    "```"
   ]
  },
  {
   "cell_type": "markdown",
   "id": "11a0a9f0",
   "metadata": {
    "slideshow": {
     "slide_type": "slide"
    }
   },
   "source": [
    "# `any` and `all`\n",
    "\n",
    "* `any(iter)` - is there <font color=\"blue\">any</font> element(s) in the iterable  that evaluate to `True`\n",
    "* `all(iter)` - does <font color=\"blue\">all</font> the elements evaluate to `True`"
   ]
  },
  {
   "cell_type": "code",
   "execution_count": 18,
   "id": "458e315d",
   "metadata": {
    "slideshow": {
     "slide_type": "fragment"
    }
   },
   "outputs": [
    {
     "data": {
      "text/plain": [
       "False"
      ]
     },
     "execution_count": 18,
     "metadata": {},
     "output_type": "execute_result"
    }
   ],
   "source": [
    "# DEMO: Any and All\n",
    "\n",
    "all((True, True, True))  # True\n",
    "all([False, True, True, True, True])  # False\n",
    "\n",
    "any([False, False, False, True])  # True\n",
    "any([False, False, False])  # False"
   ]
  },
  {
   "cell_type": "markdown",
   "id": "7c9df5b2",
   "metadata": {
    "slideshow": {
     "slide_type": "slide"
    }
   },
   "source": [
    "# `filter`, `map`, and `reduce`\n"
   ]
  },
  {
   "cell_type": "markdown",
   "id": "bc2d5a8b",
   "metadata": {
    "slideshow": {
     "slide_type": "subslide"
    }
   },
   "source": [
    "## `filter`\n",
    "> Keep what we want. Get rid of what we don't want."
   ]
  },
  {
   "cell_type": "code",
   "execution_count": 10,
   "id": "a1f31433",
   "metadata": {
    "slideshow": {
     "slide_type": "fragment"
    }
   },
   "outputs": [
    {
     "data": {
      "text/plain": [
       "['foo@bar.com', 'kkhuong@myriad.com']"
      ]
     },
     "execution_count": 10,
     "metadata": {},
     "output_type": "execute_result"
    }
   ],
   "source": [
    "# DEMO: Filter\n",
    "\n",
    "import re   \n",
    "\n",
    "def is_valid_email(email):\n",
    "    return bool(re.search('^[a-z0-9]+[\\._]?[a-z0-9]+[@]\\w+[.]\\w{2,3}$', email))\n",
    "\n",
    "# TASK: given a list of emails, filter out only valid emails\n",
    "emails = [\"kevinmyriad.com\", \"foo@bar.com\", \"kkhuong@myriad.com\", \"peter.1_@+myriad\"]\n"
   ]
  },
  {
   "cell_type": "markdown",
   "id": "6013c4be",
   "metadata": {
    "slideshow": {
     "slide_type": "subslide"
    }
   },
   "source": [
    "## `map`\n",
    "> Given function `f` and a list of elements <br>`[e0, e1, ..., eN]`, <br>we want `[f(e0), f(e1), ..., f(eN)]`"
   ]
  },
  {
   "cell_type": "code",
   "execution_count": 13,
   "id": "df034ff5",
   "metadata": {
    "slideshow": {
     "slide_type": "fragment"
    }
   },
   "outputs": [
    {
     "data": {
      "text/plain": [
       "[0, 2, 4, 6, 8]"
      ]
     },
     "execution_count": 13,
     "metadata": {},
     "output_type": "execute_result"
    }
   ],
   "source": [
    "# DEMO: Map\n",
    "\n",
    "def double(n):\n",
    "    return 2*n\n",
    "\n",
    "# TASK: Double all the elements in list A\n",
    "A = [0, 1, 2, 3, 4]\n",
    "\n",
    "list(map(double, A))\n"
   ]
  },
  {
   "cell_type": "markdown",
   "id": "d5939f04",
   "metadata": {
    "slideshow": {
     "slide_type": "subslide"
    }
   },
   "source": [
    "## `reduce` (or Fold-Left)\n",
    "\n",
    "<!-- Definition of reduce. Or example -->"
   ]
  },
  {
   "cell_type": "code",
   "execution_count": 15,
   "id": "c9c9a83c",
   "metadata": {
    "slideshow": {
     "slide_type": "fragment"
    }
   },
   "outputs": [
    {
     "data": {
      "text/plain": [
       "720"
      ]
     },
     "execution_count": 15,
     "metadata": {},
     "output_type": "execute_result"
    }
   ],
   "source": [
    "# DEMO: Reduce (or Fold-Left)\n",
    "\n",
    "from functools import reduce\n",
    "import operator\n",
    "\n",
    "# TASK: find the product of all the elements in list A\n",
    "A = [1, 2, 3, 4, 5, 6]\n"
   ]
  },
  {
   "cell_type": "markdown",
   "id": "f4d693e6",
   "metadata": {
    "slideshow": {
     "slide_type": "slide"
    }
   },
   "source": [
    "# Decorators\n",
    "> A good way to wrap your functions. Add some behaviors to your functions without modifying them directly."
   ]
  },
  {
   "cell_type": "code",
   "execution_count": 46,
   "id": "179daa4c",
   "metadata": {
    "slideshow": {
     "slide_type": "fragment"
    }
   },
   "outputs": [
    {
     "name": "stdout",
     "output_type": "stream",
     "text": [
      "bubble_sort([1, 2, 2, 3, 4, 10, 23, 47, 99],) ran in 9.7752e-06s\n"
     ]
    },
    {
     "data": {
      "text/plain": [
       "[1, 2, 2, 3, 4, 10, 23, 47, 99]"
      ]
     },
     "execution_count": 46,
     "metadata": {},
     "output_type": "execute_result"
    }
   ],
   "source": [
    "import random\n",
    "import time\n",
    "\n",
    "def timed(func):\n",
    "    \"\"\"This decorator prints the execution time for the decorated function.\"\"\"\n",
    "\n",
    "    def wrapper(*args, **kwargs):\n",
    "        start = time.time()\n",
    "        result = func(*args, **kwargs)\n",
    "        end = time.time()\n",
    "        print(\"{}{} ran in {}s\".format(func.__name__, args, round(end - start, 10)))\n",
    "        return result\n",
    "\n",
    "    return wrapper\n",
    "\n",
    "\n",
    "@timed\n",
    "def fibonacci(n):\n",
    "    dp = [0] * (n + 1)\n",
    "    dp[1] = 1\n",
    "    for i in range(2, n + 1):\n",
    "        dp[i] = dp[i - 1] + dp[i - 2]\n",
    "    return dp[n]\n",
    "\n",
    "@timed\n",
    "def bubble_sort(arr):\n",
    "    for i in range(len(arr)):\n",
    "        for j in range(i+1, len(arr)):\n",
    "            if arr[i] > arr[j]:\n",
    "                arr[i], arr[j] = arr[j], arr[i]\n",
    "    return arr\n",
    "\n",
    "bubble_sort([99,23,1,47,2,3,4,2,10])"
   ]
  },
  {
   "cell_type": "markdown",
   "id": "0a756159",
   "metadata": {
    "slideshow": {
     "slide_type": "slide"
    }
   },
   "source": [
    "![Take aways](img/takeaways.jpg)\n",
    "\n",
    "- Take advantage of Python idioms and FP concepts to write clean code!\n",
    "  - `any`, `all`, `filter`, `map`, `reduce`, Decorators\n",
    "- Having side-effects can make code harder to debug\n",
    "  - Write <font color=\"blue\">pure functions</font> when possible!"
   ]
  },
  {
   "cell_type": "markdown",
   "id": "a6ebe8a4",
   "metadata": {
    "slideshow": {
     "slide_type": "slide"
    }
   },
   "source": [
    "# Acknowledgement\n",
    "\n",
    "* Dan Grossman @ UWashington - [https://www.coursera.org/learn/programming-languages](https://www.coursera.org/learn/programming-languages)\n",
    "* Mehreen Saeed @ Machine Learning Mastery - [https://machinelearningmastery.com/functional-programming-in-python/](https://machinelearningmastery.com/functional-programming-in-python/)\n",
    "* Vic Kumar @ Excella, Inc. -  [https://github.com/vickumar1981/functional_python](https://github.com/vickumar1981/functional_python)"
   ]
  },
  {
   "cell_type": "markdown",
   "id": "35a11f0e",
   "metadata": {
    "slideshow": {
     "slide_type": "slide"
    }
   },
   "source": [
    "![Thank you image](img/thanks.png)\n",
    "\n",
    "\n",
    "### Slides:  [github.com/kkhuong/fp-talk](https://github.com/kkhuong/fp-talk)\n",
    "### Email: kevin.khuong1@gmail.com"
   ]
  },
  {
   "cell_type": "markdown",
   "id": "e0f8fe35",
   "metadata": {
    "slideshow": {
     "slide_type": "notes"
    }
   },
   "source": [
    "# Feedback\n",
    "\n",
    "* Practice run: time was 12 min. We added several more slides since the practice run\n",
    "* Great new additions.\n",
    "* Liked the pause for questions. Use those for timer milestone. \n",
    "* We asked at 9:00 and 16:20\n",
    "* Audience might want to read the Decorator slides. Take a pause!"
   ]
  }
 ],
 "metadata": {
  "celltoolbar": "Slideshow",
  "kernelspec": {
   "display_name": "Python 3 (ipykernel)",
   "language": "python",
   "name": "python3"
  },
  "language_info": {
   "codemirror_mode": {
    "name": "ipython",
    "version": 3
   },
   "file_extension": ".py",
   "mimetype": "text/x-python",
   "name": "python",
   "nbconvert_exporter": "python",
   "pygments_lexer": "ipython3",
   "version": "3.9.12"
  }
 },
 "nbformat": 4,
 "nbformat_minor": 5
}
